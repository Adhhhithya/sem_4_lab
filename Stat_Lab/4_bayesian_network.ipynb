{
 "cells": [
  {
   "cell_type": "code",
   "execution_count": 33,
   "id": "22847800",
   "metadata": {},
   "outputs": [],
   "source": [
    "import numpy as np\n",
    "import pandas as pd\n",
    "import matplotlib.pyplot as plt\n",
    "import networkx as nx"
   ]
  },
  {
   "cell_type": "code",
   "execution_count": 34,
   "id": "f0e39f30",
   "metadata": {},
   "outputs": [],
   "source": [
    "from pgmpy.models import DiscreteBayesianNetwork  # Updated for new pgmpy\n",
    "from pgmpy.estimators import MaximumLikelihoodEstimator\n",
    "from pgmpy.inference import VariableElimination"
   ]
  },
  {
   "cell_type": "code",
   "execution_count": 35,
   "id": "6d6d440f",
   "metadata": {},
   "outputs": [],
   "source": [
    "# Step 1: Load the dataset\n",
    "heartDisease = pd.read_csv('D:\\Programming\\Sem 4 Lab\\Stat_Lab\\heart.csv')"
   ]
  },
  {
   "cell_type": "code",
   "execution_count": 36,
   "id": "ebb615fb",
   "metadata": {},
   "outputs": [
    {
     "name": "stdout",
     "output_type": "stream",
     "text": [
      "Few examples from the dataset are given below:\n",
      "   age  sex  cp  trestbps  chol  fbs  restecg  thalach  exang  oldpeak  slope  \\\n",
      "0   63    1   3       145   233    1        0      150      0      2.3      0   \n",
      "1   37    1   2       130   250    0        1      187      0      3.5      0   \n",
      "2   41    0   1       130   204    0        0      172      0      1.4      2   \n",
      "3   56    1   1       120   236    0        1      178      0      0.8      2   \n",
      "4   57    0   0       120   354    0        1      163      1      0.6      2   \n",
      "\n",
      "   ca  thal  target  \n",
      "0   0     1       1  \n",
      "1   0     2       1  \n",
      "2   0     2       1  \n",
      "3   0     2       1  \n",
      "4   0     2       1  \n"
     ]
    }
   ],
   "source": [
    "# Step 2: Preview the dataset\n",
    "print('Few examples from the dataset are given below:')\n",
    "print(heartDisease.head())"
   ]
  },
  {
   "cell_type": "code",
   "execution_count": 37,
   "id": "a7a93ab1",
   "metadata": {},
   "outputs": [],
   "source": [
    "# Step 3: Rename target column if needed\n",
    "if 'target' in heartDisease.columns:\n",
    "    heartDisease.rename(columns={'target': 'heartdisease'}, inplace=True)"
   ]
  },
  {
   "cell_type": "code",
   "execution_count": 38,
   "id": "e19c1b19",
   "metadata": {},
   "outputs": [
    {
     "name": "stderr",
     "output_type": "stream",
     "text": [
      "C:\\Users\\Adhithya J\\AppData\\Local\\Temp\\ipykernel_66608\\885002133.py:4: FutureWarning: errors='ignore' is deprecated and will raise in a future version. Use to_numeric without passing `errors` and catch exceptions explicitly instead\n",
      "  heartDisease = heartDisease.apply(pd.to_numeric, errors='ignore')\n"
     ]
    }
   ],
   "source": [
    "# Step 4: Clean data – handle missing values\n",
    "heartDisease = heartDisease.replace('?', np.nan)\n",
    "heartDisease = heartDisease.dropna()\n",
    "heartDisease = heartDisease.apply(pd.to_numeric, errors='ignore')"
   ]
  },
  {
   "cell_type": "code",
   "execution_count": 39,
   "id": "b6c6a658",
   "metadata": {},
   "outputs": [],
   "source": [
    "# Step 5: Discretize continuous variables\n",
    "heartDisease['age'] = pd.cut(heartDisease['age'],\n",
    "                             bins=[0, 30, 40, 50, 60, 70, 100],\n",
    "                             labels=['0-30', '30-40', '40-50', '50-60', '60-70', '70-100'])\n",
    "\n",
    "heartDisease['chol'] = pd.cut(heartDisease['chol'],\n",
    "                              bins=[0, 200, 240, 300, 400, 600],\n",
    "                              labels=['0-200', '200-240', '240-300', '300-400', '400+'])"
   ]
  },
  {
   "cell_type": "code",
   "execution_count": 40,
   "id": "0c08f073",
   "metadata": {},
   "outputs": [],
   "source": [
    "# Step 6: Define the Bayesian Network structure\n",
    "model = DiscreteBayesianNetwork([\n",
    "    ('age', 'trestbps'), ('age', 'fbs'),\n",
    "    ('sex', 'trestbps'), ('exang', 'trestbps'),\n",
    "    ('trestbps', 'heartdisease'), ('fbs', 'heartdisease'),\n",
    "    ('heartdisease', 'restecg'), ('heartdisease', 'thalach'),\n",
    "    ('heartdisease', 'chol')\n",
    "])"
   ]
  },
  {
   "cell_type": "code",
   "execution_count": 41,
   "id": "aa55cc1c",
   "metadata": {},
   "outputs": [
    {
     "name": "stderr",
     "output_type": "stream",
     "text": [
      "INFO:pgmpy: Datatype (N=numerical, C=Categorical Unordered, O=Categorical Ordered) inferred from data: \n",
      " {'age': 'O', 'sex': 'N', 'cp': 'N', 'trestbps': 'N', 'chol': 'O', 'fbs': 'N', 'restecg': 'N', 'thalach': 'N', 'exang': 'N', 'oldpeak': 'N', 'slope': 'N', 'ca': 'N', 'thal': 'N', 'heartdisease': 'N'}\n"
     ]
    },
    {
     "name": "stdout",
     "output_type": "stream",
     "text": [
      "\n",
      "Learning CPDs using Maximum Likelihood Estimators\n"
     ]
    },
    {
     "data": {
      "text/plain": [
       "<pgmpy.models.DiscreteBayesianNetwork.DiscreteBayesianNetwork at 0x1ec97a47a50>"
      ]
     },
     "execution_count": 41,
     "metadata": {},
     "output_type": "execute_result"
    }
   ],
   "source": [
    "# Step 7: Learn CPDs using MLE\n",
    "print('\\nLearning CPDs using Maximum Likelihood Estimators')\n",
    "model.fit(heartDisease, estimator=MaximumLikelihoodEstimator)"
   ]
  },
  {
   "cell_type": "code",
   "execution_count": 42,
   "id": "40dd73ef",
   "metadata": {},
   "outputs": [
    {
     "name": "stderr",
     "output_type": "stream",
     "text": [
      "INFO:pgmpy: Datatype (N=numerical, C=Categorical Unordered, O=Categorical Ordered) inferred from data: \n",
      " {'age': 'O', 'sex': 'N', 'cp': 'N', 'trestbps': 'N', 'chol': 'O', 'fbs': 'N', 'restecg': 'N', 'thalach': 'N', 'exang': 'N', 'oldpeak': 'N', 'slope': 'N', 'ca': 'N', 'thal': 'N', 'heartdisease': 'N'}\n",
      "WARNING:pgmpy:Replacing existing CPD for age\n",
      "WARNING:pgmpy:Replacing existing CPD for trestbps\n",
      "WARNING:pgmpy:Replacing existing CPD for fbs\n",
      "WARNING:pgmpy:Replacing existing CPD for sex\n",
      "WARNING:pgmpy:Replacing existing CPD for exang\n",
      "WARNING:pgmpy:Replacing existing CPD for heartdisease\n",
      "WARNING:pgmpy:Replacing existing CPD for restecg\n",
      "WARNING:pgmpy:Replacing existing CPD for thalach\n",
      "WARNING:pgmpy:Replacing existing CPD for chol\n"
     ]
    },
    {
     "name": "stdout",
     "output_type": "stream",
     "text": [
      "\n",
      "Learning CPDs using Maximum Likelihood Estimators\n"
     ]
    },
    {
     "data": {
      "text/plain": [
       "<pgmpy.models.DiscreteBayesianNetwork.DiscreteBayesianNetwork at 0x1ec97a47a50>"
      ]
     },
     "execution_count": 42,
     "metadata": {},
     "output_type": "execute_result"
    }
   ],
   "source": [
    "# Step 7: Learn CPDs using MLE\n",
    "print('\\nLearning CPDs using Maximum Likelihood Estimators')\n",
    "model.fit(heartDisease, estimator=MaximumLikelihoodEstimator)"
   ]
  },
  {
   "cell_type": "code",
   "execution_count": 44,
   "id": "fe00646f",
   "metadata": {},
   "outputs": [
    {
     "name": "stdout",
     "output_type": "stream",
     "text": [
      "\n",
      "Inferencing with Bayesian Network:\n",
      "\n",
      "1. Probability of HeartDisease given Age = 30-40\n",
      "+-----------------+---------------------+\n",
      "| heartdisease    |   phi(heartdisease) |\n",
      "+=================+=====================+\n",
      "| heartdisease(0) |              0.3375 |\n",
      "+-----------------+---------------------+\n",
      "| heartdisease(1) |              0.6625 |\n",
      "+-----------------+---------------------+\n",
      "\n",
      "2. Probability of HeartDisease given Cholesterol = 200-240\n",
      "+-----------------+---------------------+\n",
      "| heartdisease    |   phi(heartdisease) |\n",
      "+=================+=====================+\n",
      "| heartdisease(0) |              0.3661 |\n",
      "+-----------------+---------------------+\n",
      "| heartdisease(1) |              0.6339 |\n",
      "+-----------------+---------------------+\n",
      "\n",
      "3. Probability of HeartDisease given Age = 30-40 and Cholesterol = 200-240\n",
      "+-----------------+---------------------+\n",
      "| heartdisease    |   phi(heartdisease) |\n",
      "+=================+=====================+\n",
      "| heartdisease(0) |              0.2686 |\n",
      "+-----------------+---------------------+\n",
      "| heartdisease(1) |              0.7314 |\n",
      "+-----------------+---------------------+\n"
     ]
    }
   ],
   "source": [
    "# Step 10: Inference with the Bayesian Network\n",
    "print('\\nInferencing with Bayesian Network:')\n",
    "heartDisease_infer = VariableElimination(model)\n",
    "\n",
    "# Query 1: Probability of HeartDisease given Age = 30-40\n",
    "print('\\n1. Probability of HeartDisease given Age = 30-40')\n",
    "q1 = heartDisease_infer.query(variables=['heartdisease'], evidence={'age': '30-40'})\n",
    "print(q1)\n",
    "\n",
    "# Query 2: Probability of HeartDisease given Cholesterol = 200-240\n",
    "print('\\n2. Probability of HeartDisease given Cholesterol = 200-240')\n",
    "q2 = heartDisease_infer.query(variables=['heartdisease'], evidence={'chol': '200-240'})\n",
    "print(q2)\n",
    "\n",
    "# Query 3: Combined evidence\n",
    "print('\\n3. Probability of HeartDisease given Age = 30-40 and Cholesterol = 200-240')\n",
    "q3 = heartDisease_infer.query(variables=['heartdisease'], evidence={'age': '30-40', 'chol': '200-240'})\n",
    "print(q3)"
   ]
  }
 ],
 "metadata": {
  "kernelspec": {
   "display_name": "Python 3",
   "language": "python",
   "name": "python3"
  },
  "language_info": {
   "codemirror_mode": {
    "name": "ipython",
    "version": 3
   },
   "file_extension": ".py",
   "mimetype": "text/x-python",
   "name": "python",
   "nbconvert_exporter": "python",
   "pygments_lexer": "ipython3",
   "version": "3.11.0"
  }
 },
 "nbformat": 4,
 "nbformat_minor": 5
}
