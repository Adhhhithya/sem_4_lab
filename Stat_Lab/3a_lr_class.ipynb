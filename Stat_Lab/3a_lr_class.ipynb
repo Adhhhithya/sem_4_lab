{
 "cells": [
  {
   "cell_type": "code",
   "execution_count": 1,
   "id": "6243f579",
   "metadata": {},
   "outputs": [],
   "source": [
    "import numpy as np\n",
    "import matplotlib.pyplot as plt"
   ]
  },
  {
   "cell_type": "code",
   "execution_count": 2,
   "id": "f54f46be",
   "metadata": {},
   "outputs": [],
   "source": [
    "\n",
    "class LinearRegression:\n",
    "    def __init__(self):\n",
    "        self.slope = 0\n",
    "        self.intercept = 0\n",
    "    \n",
    "    def fit(self, X, y):\n",
    "        \"\"\"\n",
    "        Fit the linear regression model using the least squares method.\n",
    "        X: input features (independent variable)\n",
    "        y: target variable (dependent variable)\n",
    "        \"\"\"\n",
    "        n = len(X)\n",
    "        # Calculate the slope (m) and intercept (b)\n",
    "        numerator = np.sum((X - np.mean(X)) * (y - np.mean(y)))\n",
    "        denominator = np.sum((X - np.mean(X))**2)\n",
    "        \n",
    "        self.slope = numerator / denominator\n",
    "        self.intercept = np.mean(y) - (self.slope * np.mean(X))\n",
    "    \n",
    "    def predict(self, X):\n",
    "        \"\"\"\n",
    "        Predict the target variable using the learned linear model.\n",
    "        X: input features (independent variable)\n",
    "        \"\"\"\n",
    "        return self.slope * X + self.intercept\n",
    "    \n",
    "    def mean_squared_error(self, X, y):\n",
    "        \"\"\"\n",
    "        Calculate the Mean Squared Error (MSE) for the predictions.\n",
    "        X: input features\n",
    "        y: actual target values\n",
    "        \"\"\"\n",
    "        y_pred = self.predict(X)\n",
    "        mse = np.mean((y - y_pred) ** 2)\n",
    "        return mse\n",
    "    \n",
    "    def plot(self, X, y):\n",
    "        \"\"\"\n",
    "        Plot the input data points and the regression line.\n",
    "        X: input features\n",
    "        y: actual target values\n",
    "        \"\"\"\n",
    "        plt.scatter(X, y, color='blue', label='Data Points')\n",
    "        plt.plot(X, self.predict(X), color='red', label='Regression Line')\n",
    "        plt.xlabel('X')\n",
    "        plt.ylabel('y')\n",
    "        plt.title('Linear Regression')\n",
    "        plt.legend()\n",
    "        plt.show()\n"
   ]
  },
  {
   "cell_type": "code",
   "execution_count": 7,
   "id": "fc20acca",
   "metadata": {},
   "outputs": [
    {
     "name": "stdout",
     "output_type": "stream",
     "text": [
      "Slope: 1.05\n",
      "Intercept: -0.3100000000000005\n",
      "Predictions: [0.74 1.79 2.84 3.89 4.94]\n",
      "Mean Squared Error: 0.22140000000000012\n"
     ]
    },
    {
     "data": {
      "image/png": "[encoded data removed]",
      "text/plain": [
       "<Figure size 640x480 with 1 Axes>"
      ]
     },
     "metadata": {},
     "output_type": "display_data"
    }
   ],
   "source": [
    "# Example usage\n",
    "if __name__ == \"__main__\":\n",
    "    # Create some example data\n",
    "    X = np.array([1, 2, 3, 4, 5])\n",
    "    y = np.array([1, 2, 1.9, 4.1, 5.2])\n",
    "\n",
    "    # Initialize the LinearRegression object\n",
    "    model = LinearRegression()\n",
    "\n",
    "    # Fit the model to the data\n",
    "    model.fit(X, y)\n",
    "\n",
    "    # Print the slope and intercept\n",
    "    print(f\"Slope: {model.slope}\")\n",
    "    print(f\"Intercept: {model.intercept}\")\n",
    "\n",
    "    # Make predictions\n",
    "    predictions = model.predict(X)\n",
    "    print(\"Predictions:\", predictions)\n",
    "\n",
    "    # Calculate Mean Squared Error\n",
    "    mse = model.mean_squared_error(X, y)\n",
    "    print(f\"Mean Squared Error: {mse}\")\n",
    "\n",
    "    # Plot the data and regression line\n",
    "    model.plot(X, y)\n"
   ]
  },
  {
   "cell_type": "code",
   "execution_count": null,
   "id": "5bc15e7d",
   "metadata": {},
   "outputs": [],
   "source": []
  }
 ],
 "metadata": {
  "kernelspec": {
   "display_name": "Python 3",
   "language": "python",
   "name": "python3"
  },
  "language_info": {
   "codemirror_mode": {
    "name": "ipython",
    "version": 3
   },
   "file_extension": ".py",
   "mimetype": "text/x-python",
   "name": "python",
   "nbconvert_exporter": "python",
   "pygments_lexer": "ipython3",
   "version": "3.11.0"
  }
 },
 "nbformat": 4,
 "nbformat_minor": 5
}
